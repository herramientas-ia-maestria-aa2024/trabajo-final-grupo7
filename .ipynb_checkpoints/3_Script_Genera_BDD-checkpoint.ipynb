{
 "cells": [
  {
   "cell_type": "markdown",
   "id": "1ce57505-32c4-4810-821a-b1d02aa34726",
   "metadata": {},
   "source": [
    "# Script para generar la BDD a partir de un archivo CSV"
   ]
  },
  {
   "cell_type": "code",
   "execution_count": 1,
   "id": "0893921f-7eff-46fd-ae1b-10ec37e8db9b",
   "metadata": {},
   "outputs": [],
   "source": [
    "#Librerías\n",
    "import pandas as pd\n",
    "import pymysql\n",
    "import sqlalchemy as db"
   ]
  },
  {
   "cell_type": "code",
   "execution_count": 2,
   "id": "150bf098-0bd6-4196-ae90-d075c3785cb1",
   "metadata": {},
   "outputs": [
    {
     "data": {
      "text/html": [
       "<div>\n",
       "<style scoped>\n",
       "    .dataframe tbody tr th:only-of-type {\n",
       "        vertical-align: middle;\n",
       "    }\n",
       "\n",
       "    .dataframe tbody tr th {\n",
       "        vertical-align: top;\n",
       "    }\n",
       "\n",
       "    .dataframe thead th {\n",
       "        text-align: right;\n",
       "    }\n",
       "</style>\n",
       "<table border=\"1\" class=\"dataframe\">\n",
       "  <thead>\n",
       "    <tr style=\"text-align: right;\">\n",
       "      <th></th>\n",
       "      <th>cedula</th>\n",
       "      <th>fechaingresoEmpresa</th>\n",
       "      <th>tituloTercerNivel</th>\n",
       "      <th>nombreEmpresa</th>\n",
       "      <th>numeroTarjetaCredito</th>\n",
       "    </tr>\n",
       "  </thead>\n",
       "  <tbody>\n",
       "    <tr>\n",
       "      <th>0</th>\n",
       "      <td>2451704974</td>\n",
       "      <td>2014-03-15</td>\n",
       "      <td>Licenciado/a</td>\n",
       "      <td>Desarrollos Innovadores</td>\n",
       "      <td>3167-6140-8146-7740</td>\n",
       "    </tr>\n",
       "    <tr>\n",
       "      <th>1</th>\n",
       "      <td>0681759200</td>\n",
       "      <td>2008-12-09</td>\n",
       "      <td>Licenciado/a</td>\n",
       "      <td>Grupo Tecnológico</td>\n",
       "      <td>3857-9253-0028-8989</td>\n",
       "    </tr>\n",
       "    <tr>\n",
       "      <th>2</th>\n",
       "      <td>1570342897</td>\n",
       "      <td>1960-05-03</td>\n",
       "      <td>Doctor/a</td>\n",
       "      <td>Grupo Tecnológico</td>\n",
       "      <td>0223-4580-0575-6474</td>\n",
       "    </tr>\n",
       "    <tr>\n",
       "      <th>3</th>\n",
       "      <td>0319307751</td>\n",
       "      <td>1970-01-12</td>\n",
       "      <td>Ingeniero/a</td>\n",
       "      <td>Soluciones Integrales</td>\n",
       "      <td>5592-8680-4874-0618</td>\n",
       "    </tr>\n",
       "    <tr>\n",
       "      <th>4</th>\n",
       "      <td>1944437987</td>\n",
       "      <td>2020-07-18</td>\n",
       "      <td>Ingeniero/a</td>\n",
       "      <td>Grupo Tecnológico</td>\n",
       "      <td>9769-4182-6886-5301</td>\n",
       "    </tr>\n",
       "    <tr>\n",
       "      <th>...</th>\n",
       "      <td>...</td>\n",
       "      <td>...</td>\n",
       "      <td>...</td>\n",
       "      <td>...</td>\n",
       "      <td>...</td>\n",
       "    </tr>\n",
       "    <tr>\n",
       "      <th>995</th>\n",
       "      <td>1077555266</td>\n",
       "      <td>1983-07-06</td>\n",
       "      <td>Licenciado/a</td>\n",
       "      <td>Grupo Tecnológico</td>\n",
       "      <td>1095-2167-4269-4885</td>\n",
       "    </tr>\n",
       "    <tr>\n",
       "      <th>996</th>\n",
       "      <td>0143821276</td>\n",
       "      <td>1999-03-04</td>\n",
       "      <td>Doctor/a</td>\n",
       "      <td>Soluciones Integrales</td>\n",
       "      <td>9580-5678-7387-4353</td>\n",
       "    </tr>\n",
       "    <tr>\n",
       "      <th>997</th>\n",
       "      <td>0328303960</td>\n",
       "      <td>1970-05-06</td>\n",
       "      <td>Licenciado/a</td>\n",
       "      <td>Soluciones Integrales</td>\n",
       "      <td>3784-7058-1085-7788</td>\n",
       "    </tr>\n",
       "    <tr>\n",
       "      <th>998</th>\n",
       "      <td>0312120570</td>\n",
       "      <td>1998-10-21</td>\n",
       "      <td>Licenciado/a</td>\n",
       "      <td>Desarrollos Innovadores</td>\n",
       "      <td>3450-2002-5662-9539</td>\n",
       "    </tr>\n",
       "    <tr>\n",
       "      <th>999</th>\n",
       "      <td>3079830417</td>\n",
       "      <td>1969-04-23</td>\n",
       "      <td>Doctor/a</td>\n",
       "      <td>Desarrollos Innovadores</td>\n",
       "      <td>7714-5698-0007-0177</td>\n",
       "    </tr>\n",
       "  </tbody>\n",
       "</table>\n",
       "<p>1000 rows × 5 columns</p>\n",
       "</div>"
      ],
      "text/plain": [
       "         cedula fechaingresoEmpresa tituloTercerNivel  \\\n",
       "0    2451704974          2014-03-15      Licenciado/a   \n",
       "1    0681759200          2008-12-09      Licenciado/a   \n",
       "2    1570342897          1960-05-03          Doctor/a   \n",
       "3    0319307751          1970-01-12       Ingeniero/a   \n",
       "4    1944437987          2020-07-18       Ingeniero/a   \n",
       "..          ...                 ...               ...   \n",
       "995  1077555266          1983-07-06      Licenciado/a   \n",
       "996  0143821276          1999-03-04          Doctor/a   \n",
       "997  0328303960          1970-05-06      Licenciado/a   \n",
       "998  0312120570          1998-10-21      Licenciado/a   \n",
       "999  3079830417          1969-04-23          Doctor/a   \n",
       "\n",
       "               nombreEmpresa numeroTarjetaCredito  \n",
       "0    Desarrollos Innovadores  3167-6140-8146-7740  \n",
       "1          Grupo Tecnológico  3857-9253-0028-8989  \n",
       "2          Grupo Tecnológico  0223-4580-0575-6474  \n",
       "3      Soluciones Integrales  5592-8680-4874-0618  \n",
       "4          Grupo Tecnológico  9769-4182-6886-5301  \n",
       "..                       ...                  ...  \n",
       "995        Grupo Tecnológico  1095-2167-4269-4885  \n",
       "996    Soluciones Integrales  9580-5678-7387-4353  \n",
       "997    Soluciones Integrales  3784-7058-1085-7788  \n",
       "998  Desarrollos Innovadores  3450-2002-5662-9539  \n",
       "999  Desarrollos Innovadores  7714-5698-0007-0177  \n",
       "\n",
       "[1000 rows x 5 columns]"
      ]
     },
     "execution_count": 2,
     "metadata": {},
     "output_type": "execute_result"
    }
   ],
   "source": [
    "#Se lee el archivo csv creado anteriormente: 1_Datos_BDD\n",
    "df_partebdd = pd.read_csv(\"1_Datos_BDD.csv\", converters={'cedula': str})\n",
    "df_partebdd       #Se imprime el dataframe  "
   ]
  },
  {
   "cell_type": "code",
   "execution_count": 3,
   "id": "bbf99e84-48af-451f-9ebd-79a99096a43c",
   "metadata": {},
   "outputs": [],
   "source": [
    "#Se crean las variables para la conexion con la base de datos MySQL\n",
    "database_username ='root'\n",
    "database_password ='26061998santiago'\n",
    "database_ip='localhost'\n",
    "database_name='personas'    #La base de datos creada en MySQL se llama 'personas'\n",
    "database_connection=db.create_engine('mysql+pymysql://{0}:{1}@{2}/{3}'.format(database_username, database_password, database_ip, database_name))\n",
    "#Se crea la conexion con la base de datos MySQL\n",
    "connection=database_connection.connect()\n",
    "metadata=db.MetaData()"
   ]
  },
  {
   "cell_type": "code",
   "execution_count": 4,
   "id": "6cf1e897-7fad-4e45-bfa6-e29ca09cd91c",
   "metadata": {},
   "outputs": [
    {
     "data": {
      "text/plain": [
       "1000"
      ]
     },
     "execution_count": 4,
     "metadata": {},
     "output_type": "execute_result"
    }
   ],
   "source": [
    "#Se crea la tabla 'datospersona' en la base de datos 'personas' a partir del dataframe df_partebdd\n",
    "df_partebdd.to_sql('datospersona',connection)"
   ]
  }
 ],
 "metadata": {
  "kernelspec": {
   "display_name": "Python 3 (ipykernel)",
   "language": "python",
   "name": "python3"
  },
  "language_info": {
   "codemirror_mode": {
    "name": "ipython",
    "version": 3
   },
   "file_extension": ".py",
   "mimetype": "text/x-python",
   "name": "python",
   "nbconvert_exporter": "python",
   "pygments_lexer": "ipython3",
   "version": "3.10.9"
  }
 },
 "nbformat": 4,
 "nbformat_minor": 5
}
